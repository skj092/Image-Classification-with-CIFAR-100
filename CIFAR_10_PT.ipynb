{
  "cells": [
    {
      "cell_type": "markdown",
      "metadata": {
        "id": "view-in-github",
        "colab_type": "text"
      },
      "source": [
        "<a href=\"https://colab.research.google.com/github/skj092/Image-Classification-with-CIFAR-100/blob/main/CIFAR_10_PT.ipynb\" target=\"_parent\"><img src=\"https://colab.research.google.com/assets/colab-badge.svg\" alt=\"Open In Colab\"/></a>"
      ]
    },
    {
      "cell_type": "code",
      "execution_count": 49,
      "metadata": {
        "id": "Bz_hKcGbw6gc"
      },
      "outputs": [],
      "source": [
        "# importing the necessary libraries\n",
        "import torch, torchvision\n",
        "import torchvision.transforms as transforms\n",
        "import torch.nn as nn\n",
        "import torch.nn.functional as F\n",
        "import matplotlib.pyplot as plt \n",
        "from tqdm import tqdm \n",
        "from sklearn.metrics import accuracy_score"
      ]
    },
    {
      "cell_type": "code",
      "execution_count": 50,
      "metadata": {
        "id": "XvJNpLaGw9fN"
      },
      "outputs": [],
      "source": [
        "# config\n",
        "tfms = transforms.Compose([\n",
        "    transforms.ToTensor(),\n",
        "    transforms.Normalize((0.5, 0.5, 0.5), (0.5, 0.5, 0.5))\n",
        "])\n",
        "batch_size = 32\n",
        "epochs = 10\n",
        "device = torch.device(\"cuda:0\" if torch.cuda.is_available() else \"cpu\")"
      ]
    },
    {
      "cell_type": "code",
      "execution_count": 51,
      "metadata": {
        "colab": {
          "base_uri": "https://localhost:8080/"
        },
        "id": "zUCryvUuxBAk",
        "outputId": "f1f2da34-ca38-4b47-d017-4edabc37c1c8"
      },
      "outputs": [
        {
          "output_type": "stream",
          "name": "stdout",
          "text": [
            "Files already downloaded and verified\n",
            "Files already downloaded and verified\n"
          ]
        }
      ],
      "source": [
        "# dataset and dataloader\n",
        "train_data = torchvision.datasets.CIFAR10(root='./data', train=True, transform=tfms, download=True)\n",
        "train_loader = torch.utils.data.DataLoader(train_data, batch_size=batch_size, shuffle=True)\n",
        "\n",
        "valid_data = torchvision.datasets.CIFAR10(root='./data', train=False, transform=tfms, download=True)\n",
        "valid_loader = torch.utils.data.DataLoader(valid_data, batch_size=batch_size, shuffle=False)"
      ]
    },
    {
      "cell_type": "code",
      "execution_count": 52,
      "metadata": {
        "id": "BwHKo9pKxDGy"
      },
      "outputs": [],
      "source": [
        "\n",
        "# visualizing the dataset \n",
        "def visualize_dataset(train_ds):\n",
        "    plt.figure(figsize=(10, 10))\n",
        "    plt.imshow(train_ds[0][0].permute(1, 2, 0).numpy())\n",
        "    plt.title(str(train_ds[0][1]))\n",
        "    plt.show()"
      ]
    },
    {
      "cell_type": "code",
      "execution_count": 53,
      "metadata": {
        "id": "1X-EuiGvxHGM"
      },
      "outputs": [],
      "source": [
        "# Define the network:\n",
        "class Net(nn.Module):\n",
        "    def __init__(self):\n",
        "        super(Net, self).__init__()\n",
        "        self.conv1 = nn.Conv2d(3, 6, 5)\n",
        "        self.pool = nn.MaxPool2d(2, 2)\n",
        "        self.conv2 = nn.Conv2d(6, 16, 5)\n",
        "        self.fc1 = nn.Linear(16 * 5 * 5, 120)\n",
        "        self.fc2 = nn.Linear(120, 84)\n",
        "        self.fc3 = nn.Linear(84, 10)\n",
        "\n",
        "    def forward(self, x):\n",
        "        x = self.pool(F.relu(self.conv1(x)))\n",
        "        x = self.pool(F.relu(self.conv2(x)))\n",
        "        x = x.view(-1, 16 * 5 * 5)\n",
        "        x = F.relu(self.fc1(x))\n",
        "        x = F.relu(self.fc2(x))\n",
        "        x = self.fc3(x)\n",
        "        return x"
      ]
    },
    {
      "cell_type": "code",
      "execution_count": 54,
      "metadata": {
        "colab": {
          "base_uri": "https://localhost:8080/"
        },
        "id": "_cEleR2GxSmo",
        "outputId": "ef9a5faf-2225-451e-a41e-e3d91296659e"
      },
      "outputs": [
        {
          "output_type": "stream",
          "name": "stdout",
          "text": [
            "torch.Size([1, 10])\n"
          ]
        }
      ],
      "source": [
        "# Defninig Loss and Optimizer\n",
        "model = Net()\n",
        "model.to(device)\n",
        "\n",
        "# Testing on one batch\n",
        "xb, yb = next(iter(train_loader))\n",
        "xb = xb.to(device)\n",
        "yb = yb.to(device)\n",
        "print(model(xb[0:1]).shape)"
      ]
    },
    {
      "cell_type": "code",
      "source": [
        "# Validation\n",
        "def Validation(dl):\n",
        "    losses, accuracies = [], []\n",
        "    with torch.no_grad():\n",
        "        loop = tqdm(dl, desc='Validation')\n",
        "        for data in loop:\n",
        "            xb, yb = data[0].to(device), data[1].to(device)\n",
        "            output = model(xb)\n",
        "            loss = criterion(output, yb)\n",
        "            predictions = torch.argmax(output, dim=1)\n",
        "            acc = accuracy_score(yb.cpu().numpy(), predictions.cpu().numpy())\n",
        "            losses.append(loss.item())\n",
        "            accuracies.append(acc)\n",
        "            loop.set_postfix(Loss=sum(losses)/len(losses), Accuracy=sum(accuracies)/len(accuracies))\n",
        "\n",
        "\n",
        "# Training the Model\n",
        "def train(model, train_dl, valid_dl, optimizer, criterion, epochs):\n",
        "    # To store train accuracy and loss \n",
        "    train_acc, train_loss = [], []\n",
        "    for epoch in range(epochs):\n",
        "        running_loss = 0.0\n",
        "        loop = tqdm(train_dl)\n",
        "        for i, data in enumerate(loop):\n",
        "            xb = data[0].to(device)\n",
        "            yb = data[1].to(device)\n",
        "            optimizer.zero_grad()\n",
        "            output = model(xb)\n",
        "            loss = criterion(output, yb)\n",
        "            loss.backward()\n",
        "            optimizer.step()\n",
        "            running_loss += loss.item()\n",
        "            loop.set_description(f\"Epoch [{epoch}/{epochs}]\")\n",
        "            loop.set_postfix(loss=running_loss/len(train_dl))\n",
        "        Validation(valid_dl)"
      ],
      "metadata": {
        "id": "eK4XLUDz1m1b"
      },
      "execution_count": 55,
      "outputs": []
    },
    {
      "cell_type": "code",
      "execution_count": 56,
      "metadata": {
        "colab": {
          "base_uri": "https://localhost:8080/"
        },
        "id": "yGRz-O2OyB7g",
        "outputId": "34fd2131-8216-47c1-9664-a5ef292c926b"
      },
      "outputs": [
        {
          "output_type": "stream",
          "name": "stderr",
          "text": [
            "Epoch [0/3]: 100%|██████████| 1563/1563 [00:25<00:00, 60.56it/s, loss=2.2]\n",
            "Validation: 100%|██████████| 313/313 [00:03<00:00, 86.30it/s, Accuracy=0.299, Loss=1.96]\n",
            "Epoch [1/3]: 100%|██████████| 1563/1563 [00:26<00:00, 59.69it/s, loss=1.79]\n",
            "Validation: 100%|██████████| 313/313 [00:03<00:00, 84.97it/s, Accuracy=0.404, Loss=1.63]\n",
            "Epoch [2/3]: 100%|██████████| 1563/1563 [00:25<00:00, 60.71it/s, loss=1.57]\n",
            "Validation: 100%|██████████| 313/313 [00:03<00:00, 87.58it/s, Accuracy=0.453, Loss=1.49]\n"
          ]
        }
      ],
      "source": [
        "# defining loss function and optimizer\n",
        "criterion = torch.nn.CrossEntropyLoss()\n",
        "optimizer = torch.optim.SGD(model.parameters(), lr=0.001, momentum=0.9)\n",
        "\n",
        "# Training the Model\n",
        "train(model,train_loader,valid_loader, optimizer, criterion, 3)\n",
        "\n",
        "# saving the model \n",
        "# torch.save(model.state_dict(), 'model.pkl')"
      ]
    },
    {
      "cell_type": "code",
      "execution_count": 48,
      "metadata": {
        "id": "nw7PJpj5yKGM"
      },
      "outputs": [],
      "source": [
        ""
      ]
    }
  ],
  "metadata": {
    "accelerator": "GPU",
    "colab": {
      "name": "CIFAR-10-PT.ipynb",
      "provenance": [],
      "collapsed_sections": [],
      "authorship_tag": "ABX9TyNTW7DqUulHtde+tjgCuGEk",
      "include_colab_link": true
    },
    "gpuClass": "standard",
    "kernelspec": {
      "display_name": "Python 3",
      "name": "python3"
    },
    "language_info": {
      "name": "python"
    }
  },
  "nbformat": 4,
  "nbformat_minor": 0
}