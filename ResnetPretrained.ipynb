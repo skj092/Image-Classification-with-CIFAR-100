{
  "nbformat": 4,
  "nbformat_minor": 0,
  "metadata": {
    "colab": {
      "name": "ResnetPretrained.ipynb",
      "provenance": [],
      "authorship_tag": "ABX9TyMThlviyYVVR4N9zBPga5+b",
      "include_colab_link": true
    },
    "kernelspec": {
      "name": "python3",
      "display_name": "Python 3"
    },
    "language_info": {
      "name": "python"
    },
    "accelerator": "GPU"
  },
  "cells": [
    {
      "cell_type": "markdown",
      "metadata": {
        "id": "view-in-github",
        "colab_type": "text"
      },
      "source": [
        "<a href=\"https://colab.research.google.com/github/skj092/Image-Classification-with-CIFAR-100/blob/main/ResnetPretrained.ipynb\" target=\"_parent\"><img src=\"https://colab.research.google.com/assets/colab-badge.svg\" alt=\"Open In Colab\"/></a>"
      ]
    },
    {
      "cell_type": "code",
      "metadata": {
        "id": "N3XWC7wmI5tK"
      },
      "source": [
        "import tensorflow as tf\n",
        "\n",
        "from tensorflow.keras import datasets, layers, models\n",
        "import matplotlib.pyplot as plt"
      ],
      "execution_count": 1,
      "outputs": []
    },
    {
      "cell_type": "code",
      "metadata": {
        "id": "QuMzF8BaI72v",
        "outputId": "c16dc3ad-eac9-481e-c6ec-be6b92dd2ad5",
        "colab": {
          "base_uri": "https://localhost:8080/"
        }
      },
      "source": [
        "(train_images, train_labels), (test_images, test_labels) = datasets.cifar100.load_data()\n",
        "\n",
        "# Normalize pixel values to be between 0 and 1\n",
        "train_images, test_images = train_images / 255.0, test_images / 255.0"
      ],
      "execution_count": 2,
      "outputs": [
        {
          "output_type": "stream",
          "name": "stdout",
          "text": [
            "Downloading data from https://www.cs.toronto.edu/~kriz/cifar-100-python.tar.gz\n",
            "169009152/169001437 [==============================] - 2s 0us/step\n",
            "169017344/169001437 [==============================] - 2s 0us/step\n"
          ]
        }
      ]
    },
    {
      "cell_type": "code",
      "metadata": {
        "id": "PsBqUPAFI-d9",
        "outputId": "8756f799-21ae-4d06-aa91-a6ee4d941456",
        "colab": {
          "base_uri": "https://localhost:8080/"
        }
      },
      "source": [
        "from tensorflow import keras\n",
        "\n",
        "base_model = keras.applications.DenseNet169(\n",
        "    weights='imagenet',  # Load weights pre-trained on ImageNet.\n",
        "    input_shape=(32, 32, 3),\n",
        "    include_top=False)  # Do not include the ImageNet classifier at the top."
      ],
      "execution_count": 3,
      "outputs": [
        {
          "output_type": "stream",
          "name": "stdout",
          "text": [
            "Downloading data from https://storage.googleapis.com/tensorflow/keras-applications/densenet/densenet169_weights_tf_dim_ordering_tf_kernels_notop.h5\n",
            "51879936/51877672 [==============================] - 1s 0us/step\n",
            "51888128/51877672 [==============================] - 1s 0us/step\n"
          ]
        }
      ]
    },
    {
      "cell_type": "code",
      "metadata": {
        "id": "xQ8cljK0JAbi"
      },
      "source": [
        "base_model.trainable = False"
      ],
      "execution_count": 4,
      "outputs": []
    },
    {
      "cell_type": "code",
      "metadata": {
        "id": "9xnWqR25JCeM"
      },
      "source": [
        "inputs = keras.Input(shape=(32, 32, 3))\n",
        "# We make sure that the base_model is running in inference mode here,\n",
        "# by passing `training=False`. This is important for fine-tuning, as you will\n",
        "# learn in a few paragraphs.\n",
        "x = base_model(inputs, training=False)\n",
        "# Convert features of shape `base_model.output_shape[1:]` to vectors\n",
        "x = keras.layers.GlobalAveragePooling2D()(x)\n",
        "# A Dense classifier with a single unit (binary classification)\n",
        "outputs = keras.layers.Dense(100)(x)\n",
        "model = keras.Model(inputs, outputs)"
      ],
      "execution_count": 5,
      "outputs": []
    },
    {
      "cell_type": "code",
      "metadata": {
        "id": "2lzqxhvPMd_5",
        "colab": {
          "base_uri": "https://localhost:8080/"
        },
        "outputId": "899f215e-74f6-4789-ffb3-2caa7f4a8f5b"
      },
      "source": [
        "model.compile(optimizer='adam',\n",
        "              loss=tf.keras.losses.SparseCategoricalCrossentropy(from_logits=True),\n",
        "              metrics=['accuracy'])\n",
        "\n",
        "%time model.fit(train_images, train_labels, epochs=5, validation_data=(test_images, test_labels))\n",
        "\n",
        "model.evaluate(test_images,  test_labels, verbose=2)"
      ],
      "execution_count": 6,
      "outputs": [
        {
          "output_type": "stream",
          "name": "stdout",
          "text": [
            "Epoch 1/5\n",
            "1563/1563 [==============================] - 136s 64ms/step - loss: 2.9148 - accuracy: 0.3009 - val_loss: 2.5980 - val_accuracy: 0.3543\n",
            "Epoch 2/5\n",
            "1563/1563 [==============================] - 94s 60ms/step - loss: 2.3044 - accuracy: 0.4135 - val_loss: 2.5174 - val_accuracy: 0.3745\n",
            "Epoch 3/5\n",
            "1563/1563 [==============================] - 94s 60ms/step - loss: 2.1131 - accuracy: 0.4555 - val_loss: 2.4835 - val_accuracy: 0.3792\n",
            "Epoch 4/5\n",
            "1563/1563 [==============================] - 94s 60ms/step - loss: 1.9896 - accuracy: 0.4817 - val_loss: 2.4736 - val_accuracy: 0.3855\n",
            "Epoch 5/5\n",
            "1563/1563 [==============================] - 86s 55ms/step - loss: 1.9037 - accuracy: 0.5016 - val_loss: 2.4870 - val_accuracy: 0.3946\n",
            "CPU times: user 5min 37s, sys: 14.5 s, total: 5min 52s\n",
            "Wall time: 8min 33s\n",
            "313/313 - 13s - loss: 2.4870 - accuracy: 0.3946\n"
          ]
        },
        {
          "output_type": "execute_result",
          "data": {
            "text/plain": [
              "[2.4870386123657227, 0.3946000039577484]"
            ]
          },
          "metadata": {},
          "execution_count": 6
        }
      ]
    },
    {
      "cell_type": "code",
      "metadata": {
        "id": "k3VV59ufOElD"
      },
      "source": [
        ""
      ],
      "execution_count": null,
      "outputs": []
    },
    {
      "cell_type": "code",
      "metadata": {
        "id": "HFYkZi7I-s6w"
      },
      "source": [
        ""
      ],
      "execution_count": null,
      "outputs": []
    }
  ]
}