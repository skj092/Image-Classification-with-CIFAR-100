{
  "nbformat": 4,
  "nbformat_minor": 0,
  "metadata": {
    "colab": {
      "name": "ResnetPretrained.ipynb",
      "provenance": [],
      "authorship_tag": "ABX9TyOBtxKNgbFDoU1m5MOpGcNN",
      "include_colab_link": true
    },
    "kernelspec": {
      "name": "python3",
      "display_name": "Python 3"
    },
    "language_info": {
      "name": "python"
    },
    "accelerator": "GPU"
  },
  "cells": [
    {
      "cell_type": "markdown",
      "metadata": {
        "id": "view-in-github",
        "colab_type": "text"
      },
      "source": [
        "<a href=\"https://colab.research.google.com/github/skj092/Image-Classification-with-CIFAR-100/blob/main/exp3/ResnetPretrained.ipynb\" target=\"_parent\"><img src=\"https://colab.research.google.com/assets/colab-badge.svg\" alt=\"Open In Colab\"/></a>"
      ]
    },
    {
      "cell_type": "code",
      "metadata": {
        "id": "N3XWC7wmI5tK"
      },
      "source": [
        "from tensorflow.keras.applications.resnet50 import ResNet50, preprocess_input\n",
        "import tensorflow.keras as keras\n",
        "from tensorflow.keras.models import Model, Sequential\n",
        "from tensorflow.keras.layers import Input, UpSampling2D, Flatten, BatchNormalization, Dense, Dropout, GlobalAveragePooling2D\n",
        "from tensorflow.keras import optimizers\n",
        "from keras.datasets import cifar100\n",
        "import tensorflow as tf\n",
        "from keras.utils import np_utils\n",
        "import numpy as np\n",
        "import matplotlib.pyplot as plt\n",
        "import time\n",
        "from skimage.transform import resize\n",
        "from keras.applications.resnet50 import preprocess_input, decode_predictions\n",
        "from keras.preprocessing.image import ImageDataGenerator"
      ],
      "execution_count": null,
      "outputs": []
    },
    {
      "cell_type": "code",
      "metadata": {
        "id": "QuMzF8BaI72v"
      },
      "source": [
        "num_classes = 100\n",
        "nb_epochs = 10\n",
        "\n",
        "(x_train, y_train), (x_test, y_test) = cifar100.load_data()\n",
        "\n",
        "#Pre-process the data\n",
        "x_train = preprocess_input(x_train)\n",
        "x_test = preprocess_input(x_test)\n",
        "\n",
        "datagen = ImageDataGenerator()\n",
        "datagen.fit(x_train)"
      ],
      "execution_count": null,
      "outputs": []
    },
    {
      "cell_type": "code",
      "metadata": {
        "id": "PsBqUPAFI-d9"
      },
      "source": [
        "y_train = np_utils.to_categorical(y_train, num_classes)\n",
        "y_test = np_utils.to_categorical(y_test, num_classes)"
      ],
      "execution_count": null,
      "outputs": []
    },
    {
      "cell_type": "code",
      "metadata": {
        "id": "xQ8cljK0JAbi"
      },
      "source": [
        "resnet_model = ResNet50(weights='imagenet', include_top=False, input_shape=(256, 256, 3))\n",
        "\n",
        "for layer in resnet_model.layers:\n",
        "    if isinstance(layer, BatchNormalization):\n",
        "        layer.trainable = True\n",
        "    else:\n",
        "        layer.trainable = False\n",
        "\n",
        "model = Sequential()\n",
        "model.add(UpSampling2D())\n",
        "model.add(UpSampling2D())\n",
        "model.add(UpSampling2D())\n",
        "model.add(resnet_model)\n",
        "model.add(GlobalAveragePooling2D())\n",
        "model.add(Dense(256, activation='relu'))\n",
        "model.add(Dropout(.25))\n",
        "model.add(BatchNormalization())\n",
        "model.add(Dense(num_classes, activation='softmax'))"
      ],
      "execution_count": null,
      "outputs": []
    },
    {
      "cell_type": "code",
      "metadata": {
        "id": "9xnWqR25JCeM"
      },
      "source": [
        "model.compile(loss='categorical_crossentropy',optimizer='adam',metrics=['accuracy'])"
      ],
      "execution_count": null,
      "outputs": []
    },
    {
      "cell_type": "code",
      "metadata": {
        "id": "2lzqxhvPMd_5",
        "colab": {
          "base_uri": "https://localhost:8080/"
        },
        "outputId": "a9d54a14-4d7c-487f-f76d-02ed4606fc53"
      },
      "source": [
        "#from keras.callbacks import ModelCheckpoint, LearningRateScheduler\n",
        "\n",
        "#checkpoint = ModelCheckpoint(filepath='mymodel.h5', \n",
        "#                               verbose=1, save_best_only=True)\n",
        "t=time.time()\n",
        "#x_train.shape[0] // 64\n",
        "historytemp = model.fit(datagen.flow(x_train, y_train,\n",
        "                                  batch_size=100),\n",
        "                                  steps_per_epoch=350,\n",
        "                                  epochs=5,\n",
        "                                  validation_data=(x_test, y_test))\n",
        "print('Training time: %s' % (t - time.time()))"
      ],
      "execution_count": null,
      "outputs": [
        {
          "output_type": "stream",
          "text": [
            "Epoch 1/5\n",
            "350/350 [==============================] - 371s 1s/step - loss: 2.0934 - accuracy: 0.4751 - val_loss: 1.2392 - val_accuracy: 0.6458\n",
            "Epoch 2/5\n",
            "350/350 [==============================] - 365s 1s/step - loss: 1.0798 - accuracy: 0.6879 - val_loss: 0.9739 - val_accuracy: 0.7144\n",
            "Epoch 3/5\n",
            "350/350 [==============================] - 365s 1s/step - loss: 0.8638 - accuracy: 0.7444 - val_loss: 0.8573 - val_accuracy: 0.7420\n",
            "Epoch 4/5\n",
            "350/350 [==============================] - 365s 1s/step - loss: 0.7199 - accuracy: 0.7823 - val_loss: 0.8033 - val_accuracy: 0.7586\n",
            "Epoch 5/5\n",
            "350/350 [==============================] - 365s 1s/step - loss: 0.6296 - accuracy: 0.8088 - val_loss: 0.7789 - val_accuracy: 0.7681\n",
            "Training time: -1865.4502747058868\n"
          ],
          "name": "stdout"
        }
      ]
    },
    {
      "cell_type": "code",
      "metadata": {
        "id": "k3VV59ufOElD"
      },
      "source": [
        ""
      ],
      "execution_count": null,
      "outputs": []
    },
    {
      "cell_type": "code",
      "metadata": {
        "id": "HFYkZi7I-s6w"
      },
      "source": [
        ""
      ],
      "execution_count": null,
      "outputs": []
    }
  ]
}